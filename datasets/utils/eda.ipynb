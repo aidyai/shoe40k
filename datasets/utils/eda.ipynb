{
  "nbformat": 4,
  "nbformat_minor": 0,
  "metadata": {
    "colab": {
      "provenance": [],
      "authorship_tag": "ABX9TyPfp2PKgX5OvV4HBxO8u0/j",
      "include_colab_link": true
    },
    "kernelspec": {
      "name": "python3",
      "display_name": "Python 3"
    },
    "language_info": {
      "name": "python"
    }
  },
  "cells": [
    {
      "cell_type": "markdown",
      "metadata": {
        "id": "view-in-github",
        "colab_type": "text"
      },
      "source": [
        "<a href=\"https://colab.research.google.com/github/aidyai/lora-vit40k/blob/main/datasets/utils/eda.ipynb\" target=\"_parent\"><img src=\"https://colab.research.google.com/assets/colab-badge.svg\" alt=\"Open In Colab\"/></a>"
      ]
    },
    {
      "cell_type": "code",
      "execution_count": 1,
      "metadata": {
        "colab": {
          "base_uri": "https://localhost:8080/"
        },
        "id": "9kC4oJVDwGSV",
        "outputId": "79bbc9c5-3066-4950-dee6-e32e4b8530ed"
      },
      "outputs": [
        {
          "output_type": "stream",
          "name": "stdout",
          "text": [
            "Collecting wandb\n",
            "  Downloading wandb-0.16.3-py3-none-any.whl (2.2 MB)\n",
            "\u001b[2K     \u001b[90m━━━━━━━━━━━━━━━━━━━━━━━━━━━━━━━━━━━━━━━━\u001b[0m \u001b[32m2.2/2.2 MB\u001b[0m \u001b[31m19.5 MB/s\u001b[0m eta \u001b[36m0:00:00\u001b[0m\n",
            "\u001b[?25hRequirement already satisfied: Click!=8.0.0,>=7.1 in /usr/local/lib/python3.10/dist-packages (from wandb) (8.1.7)\n",
            "Collecting GitPython!=3.1.29,>=1.0.0 (from wandb)\n",
            "  Downloading GitPython-3.1.42-py3-none-any.whl (195 kB)\n",
            "\u001b[2K     \u001b[90m━━━━━━━━━━━━━━━━━━━━━━━━━━━━━━━━━━━━━━━━\u001b[0m \u001b[32m195.4/195.4 kB\u001b[0m \u001b[31m20.0 MB/s\u001b[0m eta \u001b[36m0:00:00\u001b[0m\n",
            "\u001b[?25hRequirement already satisfied: requests<3,>=2.0.0 in /usr/local/lib/python3.10/dist-packages (from wandb) (2.31.0)\n",
            "Requirement already satisfied: psutil>=5.0.0 in /usr/local/lib/python3.10/dist-packages (from wandb) (5.9.5)\n",
            "Collecting sentry-sdk>=1.0.0 (from wandb)\n",
            "  Downloading sentry_sdk-1.40.6-py2.py3-none-any.whl (258 kB)\n",
            "\u001b[2K     \u001b[90m━━━━━━━━━━━━━━━━━━━━━━━━━━━━━━━━━━━━━━━━\u001b[0m \u001b[32m258.5/258.5 kB\u001b[0m \u001b[31m26.0 MB/s\u001b[0m eta \u001b[36m0:00:00\u001b[0m\n",
            "\u001b[?25hCollecting docker-pycreds>=0.4.0 (from wandb)\n",
            "  Downloading docker_pycreds-0.4.0-py2.py3-none-any.whl (9.0 kB)\n",
            "Requirement already satisfied: PyYAML in /usr/local/lib/python3.10/dist-packages (from wandb) (6.0.1)\n",
            "Collecting setproctitle (from wandb)\n",
            "  Downloading setproctitle-1.3.3-cp310-cp310-manylinux_2_5_x86_64.manylinux1_x86_64.manylinux_2_17_x86_64.manylinux2014_x86_64.whl (30 kB)\n",
            "Requirement already satisfied: setuptools in /usr/local/lib/python3.10/dist-packages (from wandb) (67.7.2)\n",
            "Requirement already satisfied: appdirs>=1.4.3 in /usr/local/lib/python3.10/dist-packages (from wandb) (1.4.4)\n",
            "Requirement already satisfied: protobuf!=4.21.0,<5,>=3.19.0 in /usr/local/lib/python3.10/dist-packages (from wandb) (3.20.3)\n",
            "Requirement already satisfied: six>=1.4.0 in /usr/local/lib/python3.10/dist-packages (from docker-pycreds>=0.4.0->wandb) (1.16.0)\n",
            "Collecting gitdb<5,>=4.0.1 (from GitPython!=3.1.29,>=1.0.0->wandb)\n",
            "  Downloading gitdb-4.0.11-py3-none-any.whl (62 kB)\n",
            "\u001b[2K     \u001b[90m━━━━━━━━━━━━━━━━━━━━━━━━━━━━━━━━━━━━━━━━\u001b[0m \u001b[32m62.7/62.7 kB\u001b[0m \u001b[31m7.8 MB/s\u001b[0m eta \u001b[36m0:00:00\u001b[0m\n",
            "\u001b[?25hRequirement already satisfied: charset-normalizer<4,>=2 in /usr/local/lib/python3.10/dist-packages (from requests<3,>=2.0.0->wandb) (3.3.2)\n",
            "Requirement already satisfied: idna<4,>=2.5 in /usr/local/lib/python3.10/dist-packages (from requests<3,>=2.0.0->wandb) (3.6)\n",
            "Requirement already satisfied: urllib3<3,>=1.21.1 in /usr/local/lib/python3.10/dist-packages (from requests<3,>=2.0.0->wandb) (2.0.7)\n",
            "Requirement already satisfied: certifi>=2017.4.17 in /usr/local/lib/python3.10/dist-packages (from requests<3,>=2.0.0->wandb) (2024.2.2)\n",
            "Collecting smmap<6,>=3.0.1 (from gitdb<5,>=4.0.1->GitPython!=3.1.29,>=1.0.0->wandb)\n",
            "  Downloading smmap-5.0.1-py3-none-any.whl (24 kB)\n",
            "Installing collected packages: smmap, setproctitle, sentry-sdk, docker-pycreds, gitdb, GitPython, wandb\n",
            "Successfully installed GitPython-3.1.42 docker-pycreds-0.4.0 gitdb-4.0.11 sentry-sdk-1.40.6 setproctitle-1.3.3 smmap-5.0.1 wandb-0.16.3\n"
          ]
        }
      ],
      "source": [
        "!pip install wandb"
      ]
    },
    {
      "cell_type": "code",
      "source": [
        "import os\n",
        "import json\n",
        "import random\n",
        "from PIL import Image\n",
        "import pandas as pd\n",
        "import wandb\n",
        "\n",
        "import numpy as np\n",
        "from pathlib import Path\n",
        "from tqdm import tqdm\n",
        "\n",
        "from shutil import copyfile"
      ],
      "metadata": {
        "id": "Wd0uafirCFvO"
      },
      "execution_count": 6,
      "outputs": []
    },
    {
      "cell_type": "code",
      "source": [
        "# Login with your autorization key\n",
        "wandb.login()"
      ],
      "metadata": {
        "id": "tewa8aR4kN9H",
        "colab": {
          "base_uri": "https://localhost:8080/",
          "height": 127
        },
        "outputId": "4610bdd3-bb27-4b17-c9ad-b8a623de9f99"
      },
      "execution_count": 3,
      "outputs": [
        {
          "output_type": "display_data",
          "data": {
            "text/plain": [
              "<IPython.core.display.Javascript object>"
            ],
            "application/javascript": [
              "\n",
              "        window._wandbApiKey = new Promise((resolve, reject) => {\n",
              "            function loadScript(url) {\n",
              "            return new Promise(function(resolve, reject) {\n",
              "                let newScript = document.createElement(\"script\");\n",
              "                newScript.onerror = reject;\n",
              "                newScript.onload = resolve;\n",
              "                document.body.appendChild(newScript);\n",
              "                newScript.src = url;\n",
              "            });\n",
              "            }\n",
              "            loadScript(\"https://cdn.jsdelivr.net/npm/postmate/build/postmate.min.js\").then(() => {\n",
              "            const iframe = document.createElement('iframe')\n",
              "            iframe.style.cssText = \"width:0;height:0;border:none\"\n",
              "            document.body.appendChild(iframe)\n",
              "            const handshake = new Postmate({\n",
              "                container: iframe,\n",
              "                url: 'https://wandb.ai/authorize'\n",
              "            });\n",
              "            const timeout = setTimeout(() => reject(\"Couldn't auto authenticate\"), 5000)\n",
              "            handshake.then(function(child) {\n",
              "                child.on('authorize', data => {\n",
              "                    clearTimeout(timeout)\n",
              "                    resolve(data)\n",
              "                });\n",
              "            });\n",
              "            })\n",
              "        });\n",
              "    "
            ]
          },
          "metadata": {}
        },
        {
          "output_type": "stream",
          "name": "stderr",
          "text": [
            "\u001b[34m\u001b[1mwandb\u001b[0m: Logging into wandb.ai. (Learn how to deploy a W&B server locally: https://wandb.me/wandb-server)\n",
            "\u001b[34m\u001b[1mwandb\u001b[0m: You can find your API key in your browser here: https://wandb.ai/authorize\n",
            "wandb: Paste an API key from your profile and hit enter, or press ctrl+c to quit:"
          ]
        },
        {
          "name": "stdout",
          "output_type": "stream",
          "text": [
            " ··········\n"
          ]
        },
        {
          "output_type": "stream",
          "name": "stderr",
          "text": [
            "\u001b[34m\u001b[1mwandb\u001b[0m: Appending key for api.wandb.ai to your netrc file: /root/.netrc\n"
          ]
        },
        {
          "output_type": "execute_result",
          "data": {
            "text/plain": [
              "True"
            ]
          },
          "metadata": {},
          "execution_count": 3
        }
      ]
    },
    {
      "cell_type": "code",
      "source": [
        "!wget \"https://huggingface.co/datasets/aidystark/FOOT40K/resolve/main/FOOT40k.tar.gz?download=true\"\n",
        "!wget \"https://huggingface.co/datasets/aidystark/FOOT40K/resolve/main/foot40k.json?download=true\""
      ],
      "metadata": {
        "id": "mIAER8q-LqMy",
        "colab": {
          "base_uri": "https://localhost:8080/"
        },
        "outputId": "83309289-d5fe-4b52-ed2a-10fb986d22b5"
      },
      "execution_count": 4,
      "outputs": [
        {
          "output_type": "stream",
          "name": "stdout",
          "text": [
            "--2024-02-27 23:01:50--  https://huggingface.co/datasets/aidystark/FOOT40K/resolve/main/FOOT40k.tar.gz?download=true\n",
            "Resolving huggingface.co (huggingface.co)... 65.8.178.118, 65.8.178.12, 65.8.178.93, ...\n",
            "Connecting to huggingface.co (huggingface.co)|65.8.178.118|:443... connected.\n",
            "HTTP request sent, awaiting response... 302 Found\n",
            "Location: https://cdn-lfs-us-1.huggingface.co/repos/21/c6/21c6a561f6c396c222a1d2b05fd063e87a278bb0668e9caa4513f74d34653686/db52b59949c5c5f8a4b2c2365662ee8125d96b5c256fd5c2c30fb9259321cfe7?response-content-disposition=attachment%3B+filename*%3DUTF-8%27%27FOOT40k.tar.gz%3B+filename%3D%22FOOT40k.tar.gz%22%3B&response-content-type=application%2Fgzip&Expires=1709334110&Policy=eyJTdGF0ZW1lbnQiOlt7IkNvbmRpdGlvbiI6eyJEYXRlTGVzc1RoYW4iOnsiQVdTOkVwb2NoVGltZSI6MTcwOTMzNDExMH19LCJSZXNvdXJjZSI6Imh0dHBzOi8vY2RuLWxmcy11cy0xLmh1Z2dpbmdmYWNlLmNvL3JlcG9zLzIxL2M2LzIxYzZhNTYxZjZjMzk2YzIyMmExZDJiMDVmZDA2M2U4N2EyNzhiYjA2NjhlOWNhYTQ1MTNmNzRkMzQ2NTM2ODYvZGI1MmI1OTk0OWM1YzVmOGE0YjJjMjM2NTY2MmVlODEyNWQ5NmI1YzI1NmZkNWMyYzMwZmI5MjU5MzIxY2ZlNz9yZXNwb25zZS1jb250ZW50LWRpc3Bvc2l0aW9uPSomcmVzcG9uc2UtY29udGVudC10eXBlPSoifV19&Signature=R7SXwxEAd8AI772hm9n0m4c9rMGVwdU0NMiPXPaQo3Z11ggefmQSbwOC5Tj2-MN0HQenA5-atDBKq24a94tEsPFj%7Ev63NYAv4XjNIdjLxDLWKnhsLTJ1kU6m%7EI8dP05bcCZVcTBWTDBgNi7K%7EH5xhlnLJFYfVklWpUtz-B7FQXtWDqw7um%7ENZv-w%7EYY8XiJh0vn5-ziXgomMGf15PPNXGprnIIIEUJccVuSFJTjEBuiCLeiL0GuZT5d8onQzWoJSbl4RKOaAT4f7Pkc6yqZNKGkNGm5b67R8Kw3LyG0iTIUh74jlRchXWVyzbuJpowG%7EoX0YGpAoPA9nQxgxo6A4qQ__&Key-Pair-Id=KCD77M1F0VK2B [following]\n",
            "--2024-02-27 23:01:50--  https://cdn-lfs-us-1.huggingface.co/repos/21/c6/21c6a561f6c396c222a1d2b05fd063e87a278bb0668e9caa4513f74d34653686/db52b59949c5c5f8a4b2c2365662ee8125d96b5c256fd5c2c30fb9259321cfe7?response-content-disposition=attachment%3B+filename*%3DUTF-8%27%27FOOT40k.tar.gz%3B+filename%3D%22FOOT40k.tar.gz%22%3B&response-content-type=application%2Fgzip&Expires=1709334110&Policy=eyJTdGF0ZW1lbnQiOlt7IkNvbmRpdGlvbiI6eyJEYXRlTGVzc1RoYW4iOnsiQVdTOkVwb2NoVGltZSI6MTcwOTMzNDExMH19LCJSZXNvdXJjZSI6Imh0dHBzOi8vY2RuLWxmcy11cy0xLmh1Z2dpbmdmYWNlLmNvL3JlcG9zLzIxL2M2LzIxYzZhNTYxZjZjMzk2YzIyMmExZDJiMDVmZDA2M2U4N2EyNzhiYjA2NjhlOWNhYTQ1MTNmNzRkMzQ2NTM2ODYvZGI1MmI1OTk0OWM1YzVmOGE0YjJjMjM2NTY2MmVlODEyNWQ5NmI1YzI1NmZkNWMyYzMwZmI5MjU5MzIxY2ZlNz9yZXNwb25zZS1jb250ZW50LWRpc3Bvc2l0aW9uPSomcmVzcG9uc2UtY29udGVudC10eXBlPSoifV19&Signature=R7SXwxEAd8AI772hm9n0m4c9rMGVwdU0NMiPXPaQo3Z11ggefmQSbwOC5Tj2-MN0HQenA5-atDBKq24a94tEsPFj%7Ev63NYAv4XjNIdjLxDLWKnhsLTJ1kU6m%7EI8dP05bcCZVcTBWTDBgNi7K%7EH5xhlnLJFYfVklWpUtz-B7FQXtWDqw7um%7ENZv-w%7EYY8XiJh0vn5-ziXgomMGf15PPNXGprnIIIEUJccVuSFJTjEBuiCLeiL0GuZT5d8onQzWoJSbl4RKOaAT4f7Pkc6yqZNKGkNGm5b67R8Kw3LyG0iTIUh74jlRchXWVyzbuJpowG%7EoX0YGpAoPA9nQxgxo6A4qQ__&Key-Pair-Id=KCD77M1F0VK2B\n",
            "Resolving cdn-lfs-us-1.huggingface.co (cdn-lfs-us-1.huggingface.co)... 99.84.252.4, 99.84.252.22, 99.84.252.78, ...\n",
            "Connecting to cdn-lfs-us-1.huggingface.co (cdn-lfs-us-1.huggingface.co)|99.84.252.4|:443... connected.\n",
            "HTTP request sent, awaiting response... 200 OK\n",
            "Length: 3393919705 (3.2G) [application/gzip]\n",
            "Saving to: ‘FOOT40k.tar.gz?download=true’\n",
            "\n",
            "FOOT40k.tar.gz?down 100%[===================>]   3.16G  37.9MB/s    in 71s     \n",
            "\n",
            "2024-02-27 23:03:01 (45.9 MB/s) - ‘FOOT40k.tar.gz?download=true’ saved [3393919705/3393919705]\n",
            "\n",
            "--2024-02-27 23:03:02--  https://huggingface.co/datasets/aidystark/FOOT40K/resolve/main/foot40k.json?download=true\n",
            "Resolving huggingface.co (huggingface.co)... 65.8.178.93, 65.8.178.118, 65.8.178.12, ...\n",
            "Connecting to huggingface.co (huggingface.co)|65.8.178.93|:443... connected.\n",
            "HTTP request sent, awaiting response... 200 OK\n",
            "Length: 2484906 (2.4M) [text/plain]\n",
            "Saving to: ‘foot40k.json?download=true’\n",
            "\n",
            "foot40k.json?downlo 100%[===================>]   2.37M  --.-KB/s    in 0.1s    \n",
            "\n",
            "2024-02-27 23:03:02 (15.9 MB/s) - ‘foot40k.json?download=true’ saved [2484906/2484906]\n",
            "\n"
          ]
        }
      ]
    },
    {
      "cell_type": "code",
      "source": [
        "## Get dataset from URL\n",
        "#Images & #Labels\n",
        "image_files= \"./FOOT40k.tar.gz\"\n",
        "label_files = \"./foot40k.json\""
      ],
      "metadata": {
        "id": "SKZMsVFS06Ki"
      },
      "execution_count": 9,
      "outputs": []
    },
    {
      "cell_type": "code",
      "source": [
        "\n",
        "#extract tar files\n",
        "#!tar -xzvf \"./FOOT40k.tar.gz\"\n",
        "print(len(os.listdir(\"./FOOT40k\")))"
      ],
      "metadata": {
        "id": "TOxQb71gxEzI"
      },
      "execution_count": null,
      "outputs": []
    },
    {
      "cell_type": "code",
      "source": [
        "# Load JSON data into a DataFrame\n",
        "df = pd.read_json(label_files)\n",
        "\n",
        "# Save DataFrame to CSV\n",
        "df.to_csv('train.csv', index=False)"
      ],
      "metadata": {
        "id": "HrjDf3vo0t3n",
        "outputId": "0c669911-8ba2-4cef-c30a-d4d31e882247",
        "colab": {
          "base_uri": "https://localhost:8080/"
        }
      },
      "execution_count": 10,
      "outputs": [
        {
          "output_type": "stream",
          "name": "stdout",
          "text": [
            "Conversion completed. CSV file saved as output.csv\n"
          ]
        }
      ]
    },
    {
      "cell_type": "code",
      "source": [],
      "metadata": {
        "id": "NVMEd1uz1AQW"
      },
      "execution_count": null,
      "outputs": []
    },
    {
      "cell_type": "code",
      "source": [
        "IMG_RES = 256\n",
        "WANDB_PROJECT = 'foot-net'\n",
        "RAW_DATA_AT = f'raw_data_{IMG_RES}'"
      ],
      "metadata": {
        "id": "mPwOXW2akXeq"
      },
      "execution_count": null,
      "outputs": []
    },
    {
      "cell_type": "code",
      "source": [
        "# Read csv file\n",
        "df = pd.read_csv('train.csv')\n",
        "\n",
        "# Integer encode multi-label labels.\n",
        "labels = list(df['labels'].value_counts().keys())\n",
        "labels_dict = dict(zip(labels, range(12)))\n",
        "id_to_labels = {val: key for key, val in labels_dict.items()}\n",
        "\n",
        "df = df.replace({\"labels\": labels_dict})\n",
        "df.head()"
      ],
      "metadata": {
        "id": "jkQFKkM5ka3J"
      },
      "execution_count": null,
      "outputs": []
    },
    {
      "cell_type": "code",
      "source": [
        "# Initialize a new W&B run\n",
        "run = wandb.init(project=WANDB_PROJECT, job_type=\"upload\")\n",
        "\n",
        "# create an artifact for all the raw data\n",
        "raw_data_at = wandb.Artifact(RAW_DATA_AT, type=\"raw_data\")\n",
        "# Upload raw csv file as artifact\n",
        "raw_data_at.add_file('train.csv')\n",
        "\n",
        "# create a table with columns we want to track/compare\n",
        "preview_dt = wandb.Table(columns=[\"id\", \"image\", \"label\"])\n"
      ],
      "metadata": {
        "id": "7CsworpQk-go"
      },
      "execution_count": null,
      "outputs": []
    },
    {
      "cell_type": "code",
      "source": [
        "for i in tqdm(range(len(df))):\n",
        "    image_name = df.loc[i]['image']\n",
        "    label = df.loc[i]['labels']\n",
        "    full_path = TRAIN_PATH+image_name\n",
        "\n",
        "    # Append each example as a new row in Table.\n",
        "    preview_dt.add_data(image_name, wandb.Image(full_path), id_to_labels[label])\n"
      ],
      "metadata": {
        "id": "l_BNsuLjWrvc"
      },
      "execution_count": null,
      "outputs": []
    },
    {
      "cell_type": "code",
      "source": [
        "# save artifact to W&B\n",
        "raw_data_at.add(preview_dt, \"data_split\")\n",
        "run.log_artifact(raw_data_at)\n",
        "run.finish()"
      ],
      "metadata": {
        "id": "TZryHVV9x216"
      },
      "execution_count": null,
      "outputs": []
    },
    {
      "cell_type": "code",
      "source": [],
      "metadata": {
        "id": "QLRUwQ2vB815"
      },
      "execution_count": 5,
      "outputs": []
    }
  ]
}